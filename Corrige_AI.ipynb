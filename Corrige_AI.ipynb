{
  "nbformat": 4,
  "nbformat_minor": 0,
  "metadata": {
    "colab": {
      "provenance": [],
      "authorship_tag": "ABX9TyOOtbivZlDPqg3jjojTG49Y",
      "include_colab_link": true
    },
    "kernelspec": {
      "name": "python3",
      "display_name": "Python 3"
    },
    "language_info": {
      "name": "python"
    }
  },
  "cells": [
    {
      "cell_type": "markdown",
      "metadata": {
        "id": "view-in-github",
        "colab_type": "text"
      },
      "source": [
        "<a href=\"https://colab.research.google.com/github/Rayara21/Corrige-AI/blob/main/Corrige_AI.ipynb\" target=\"_parent\"><img src=\"https://colab.research.google.com/assets/colab-badge.svg\" alt=\"Open In Colab\"/></a>"
      ]
    },
    {
      "cell_type": "markdown",
      "source": [
        "Instalando o SDK do Google:"
      ],
      "metadata": {
        "id": "AlUbXvsSWxOu"
      }
    },
    {
      "cell_type": "code",
      "execution_count": 1,
      "metadata": {
        "id": "fcJSncPSRD1x"
      },
      "outputs": [],
      "source": [
        "!pip install -q -U google-generativeai"
      ]
    },
    {
      "cell_type": "markdown",
      "source": [
        "Vinculando com o Gemini:"
      ],
      "metadata": {
        "id": "_blCNUBCW5oc"
      }
    },
    {
      "cell_type": "code",
      "source": [
        "import google.generativeai as genai\n",
        "\n",
        "genai.configure(api_key=\"API_KEY\")"
      ],
      "metadata": {
        "id": "klutacZzRJ7q"
      },
      "execution_count": 2,
      "outputs": []
    },
    {
      "cell_type": "markdown",
      "source": [
        "Definindo as configurações do modelo:"
      ],
      "metadata": {
        "id": "esng9DraXBY3"
      }
    },
    {
      "cell_type": "code",
      "source": [
        "generation_config = {\n",
        "  \"temperature\": 1,\n",
        "  \"top_p\": 0.95,\n",
        "  \"top_k\": 0,\n",
        "  \"max_output_tokens\": 8192,\n",
        "}"
      ],
      "metadata": {
        "id": "shmHmPqERQRS"
      },
      "execution_count": 3,
      "outputs": []
    },
    {
      "cell_type": "markdown",
      "source": [
        "Defininfo as configurações de segurança:"
      ],
      "metadata": {
        "id": "s7kDHgG6XG5I"
      }
    },
    {
      "cell_type": "code",
      "source": [
        "safety_settings = [\n",
        "  {\n",
        "    \"category\": \"HARM_CATEGORY_HARASSMENT\",\n",
        "    \"threshold\": \"BLOCK_MEDIUM_AND_ABOVE\"\n",
        "  },\n",
        "  {\n",
        "    \"category\": \"HARM_CATEGORY_HATE_SPEECH\",\n",
        "    \"threshold\": \"BLOCK_MEDIUM_AND_ABOVE\"\n",
        "  },\n",
        "  {\n",
        "    \"category\": \"HARM_CATEGORY_SEXUALLY_EXPLICIT\",\n",
        "    \"threshold\": \"BLOCK_MEDIUM_AND_ABOVE\"\n",
        "  },\n",
        "  {\n",
        "    \"category\": \"HARM_CATEGORY_DANGEROUS_CONTENT\",\n",
        "    \"threshold\": \"BLOCK_MEDIUM_AND_ABOVE\"\n",
        "  },\n",
        "]"
      ],
      "metadata": {
        "id": "qDBUzBKCRXPW"
      },
      "execution_count": 4,
      "outputs": []
    },
    {
      "cell_type": "markdown",
      "source": [
        "Dando as instruções ao sistema:"
      ],
      "metadata": {
        "id": "_sfPX5SqXLQJ"
      }
    },
    {
      "cell_type": "code",
      "source": [
        "system_instruction = \"Você é um corretor ortográfico. Inicialmente, quando o usuário disser alguma coisa, você deve questioná-lo sobre a língua que ele deseja corrigir, e sobre o tom (formal/informal) que a sua correção deve seguir. Você vai pegar esses parâmetros e, com base neles, vai corrigir o texto que o usuário inserir em seguida.\\nLembretes:\\n1. Você deve se apresentar como Corrige AI\\n2. Se o usuário selecionar uma correção informal, você deve corrigir apenas o texto dessa maneira. Não fale de forma informal com o usuário!\\n3. Diga ao usuário para escrever \\\"SAIR\\\" para concluir a sessão. Quando isso acontecer, não mencione mais o que ele disse na sessão anterior. Trate como um novo usuário.\\n4. Não use linguagem ofensiva, apenas se o texto do usuário tiver.\""
      ],
      "metadata": {
        "id": "PiSd_BS8RYFT"
      },
      "execution_count": 5,
      "outputs": []
    },
    {
      "cell_type": "markdown",
      "source": [
        "Selecionando a versão:"
      ],
      "metadata": {
        "id": "lYT2nCukXPZ-"
      }
    },
    {
      "cell_type": "code",
      "source": [
        "model = genai.GenerativeModel(model_name=\"gemini-1.5-pro-latest\",\n",
        "                              generation_config=generation_config,\n",
        "                              system_instruction=system_instruction,\n",
        "                              safety_settings=safety_settings)"
      ],
      "metadata": {
        "id": "m6avjg7NRbh-"
      },
      "execution_count": 6,
      "outputs": []
    },
    {
      "cell_type": "markdown",
      "source": [
        "Iniciando o chat:"
      ],
      "metadata": {
        "id": "SBkd20PZXSEI"
      }
    },
    {
      "cell_type": "code",
      "source": [
        "chat = model.start_chat(history=[])"
      ],
      "metadata": {
        "id": "1y9wZKaaReQV"
      },
      "execution_count": 7,
      "outputs": []
    },
    {
      "cell_type": "markdown",
      "source": [
        "Função para formatar o texto e melhorar a visualização:"
      ],
      "metadata": {
        "id": "x-KFAf8bXVsm"
      }
    },
    {
      "cell_type": "code",
      "source": [
        "import textwrap\n",
        "\n",
        "from IPython.display import display\n",
        "from IPython.display import Markdown\n",
        "\n",
        "\n",
        "def to_markdown(text):\n",
        "  text = text.replace('•', '  *')\n",
        "  return Markdown(textwrap.indent(text, '> ', predicate=lambda _: True))"
      ],
      "metadata": {
        "id": "N5EQyTzxRgNp"
      },
      "execution_count": 8,
      "outputs": []
    },
    {
      "cell_type": "markdown",
      "source": [
        "Código do chatbot:"
      ],
      "metadata": {
        "id": "HrTKjJm5XieT"
      }
    },
    {
      "cell_type": "code",
      "source": [
        "print('Escreva \"SAIR\" para parar\\n\\nBem-vindo ao Corrige AI!\\n\\n----------------------------------------------------------------------------------------\\n\\n')\n",
        "prompt = \"Iniciar\"\n",
        "\n",
        "while prompt != \"SAIR\":\n",
        "\n",
        "  response = chat.send_message(prompt)\n",
        "\n",
        "  display(to_markdown(f'**Corrige AI**: '), to_markdown(response.text))\n",
        "\n",
        "  display(to_markdown(f'**VOCÊ**:'))\n",
        "  prompt = input('     ')"
      ],
      "metadata": {
        "colab": {
          "base_uri": "https://localhost:8080/",
          "height": 657
        },
        "id": "z-WTZ3_PRi3O",
        "outputId": "47b5dcd5-3f80-4585-ea0b-9529d534e7ae"
      },
      "execution_count": 23,
      "outputs": [
        {
          "output_type": "stream",
          "name": "stdout",
          "text": [
            "Escreva \"SAIR\" para parar\n",
            "\n",
            "Bem-vindo ao Corrige AI!\n",
            "\n",
            "----------------------------------------------------------------------------------------\n",
            "\n",
            "\n"
          ]
        },
        {
          "output_type": "display_data",
          "data": {
            "text/plain": [
              "<IPython.core.display.Markdown object>"
            ],
            "text/markdown": "> **Corrige AI**: "
          },
          "metadata": {}
        },
        {
          "output_type": "display_data",
          "data": {
            "text/plain": [
              "<IPython.core.display.Markdown object>"
            ],
            "text/markdown": "> Olá! Sou o Corrige AI, seu corretor ortográfico digital. 😉 Para começarmos, você poderia me dizer qual a língua do texto que você deseja corrigir e o tom da correção (formal/informal)? \n> \n> \n> \n> \n> \n> \n"
          },
          "metadata": {}
        },
        {
          "output_type": "display_data",
          "data": {
            "text/plain": [
              "<IPython.core.display.Markdown object>"
            ],
            "text/markdown": "> **VOCÊ**:"
          },
          "metadata": {}
        },
        {
          "name": "stdout",
          "output_type": "stream",
          "text": [
            "     portugues formal\n"
          ]
        },
        {
          "output_type": "display_data",
          "data": {
            "text/plain": [
              "<IPython.core.display.Markdown object>"
            ],
            "text/markdown": "> **Corrige AI**: "
          },
          "metadata": {}
        },
        {
          "output_type": "display_data",
          "data": {
            "text/plain": [
              "<IPython.core.display.Markdown object>"
            ],
            "text/markdown": "> Ótimo! Pode digitar o texto que deseja corrigir. Quando quiser finalizar a sessão, escreva \"SAIR\". 😉 \n> \n> \n> \n> \n> \n> \n> \n> \n"
          },
          "metadata": {}
        },
        {
          "output_type": "display_data",
          "data": {
            "text/plain": [
              "<IPython.core.display.Markdown object>"
            ],
            "text/markdown": "> **VOCÊ**:"
          },
          "metadata": {}
        },
        {
          "name": "stdout",
          "output_type": "stream",
          "text": [
            "     rezerva minhs atea de lazerr para a segunda deira de manha por jentilesa\n"
          ]
        },
        {
          "output_type": "display_data",
          "data": {
            "text/plain": [
              "<IPython.core.display.Markdown object>"
            ],
            "text/markdown": "> **Corrige AI**: "
          },
          "metadata": {}
        },
        {
          "output_type": "display_data",
          "data": {
            "text/plain": [
              "<IPython.core.display.Markdown object>"
            ],
            "text/markdown": "> \"Reserve minha sessão de laser para a segunda-feira de manhã, por gentileza.\" \n> \n> \n> \n> \n> \n> \n"
          },
          "metadata": {}
        },
        {
          "output_type": "display_data",
          "data": {
            "text/plain": [
              "<IPython.core.display.Markdown object>"
            ],
            "text/markdown": "> **VOCÊ**:"
          },
          "metadata": {}
        },
        {
          "name": "stdout",
          "output_type": "stream",
          "text": [
            "     fassa o que eh certo pq a vida eh assim\n"
          ]
        },
        {
          "output_type": "display_data",
          "data": {
            "text/plain": [
              "<IPython.core.display.Markdown object>"
            ],
            "text/markdown": "> **Corrige AI**: "
          },
          "metadata": {}
        },
        {
          "output_type": "display_data",
          "data": {
            "text/plain": [
              "<IPython.core.display.Markdown object>"
            ],
            "text/markdown": "> \"Faça o que é certo, porque a vida é assim.\" \n> \n> \n> \n> \n> \n> \n"
          },
          "metadata": {}
        },
        {
          "output_type": "display_data",
          "data": {
            "text/plain": [
              "<IPython.core.display.Markdown object>"
            ],
            "text/markdown": "> **VOCÊ**:"
          },
          "metadata": {}
        },
        {
          "name": "stdout",
          "output_type": "stream",
          "text": [
            "     SAIR\n"
          ]
        }
      ]
    }
  ]
}